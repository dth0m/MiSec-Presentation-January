{
 "cells": [
  {
   "cell_type": "markdown",
   "metadata": {},
   "source": [
    "# MiSec ML Use Case Demo\n",
    "This Jupyter notebook walks through a basic Machine Learning classification use case with meta data derived from a labeled set of PowerShell logs.  You will need Scikit-learn, matplotlib, and numpy installed.  Code can be ran using Canopy (https://www.enthought.com/product/canopy/), in a Docker jupyter/datascience-notebook (https://hub.docker.com/r/jupyter/datascience-notebook/), or any other environment with the required packages.\n",
    "\n",
    "The methodology presented has been ported from https://machinelearningmastery.com/machine-learning-in-python-step-by-step/.  After the data has been processed this is essentially the \"hello world\" of classification problems."
   ]
  },
  {
   "cell_type": "code",
   "execution_count": 12,
   "metadata": {},
   "outputs": [],
   "source": [
    "import re, math \n",
    "from collections import Counter\n",
    "import numpy as np\n",
    "from sklearn import cross_validation\n",
    "from sklearn import model_selection\n",
    "from sklearn.metrics import accuracy_score\n",
    "from sklearn.metrics import confusion_matrix\n",
    "from sklearn.metrics import classification_report\n",
    "import matplotlib.pyplot as plt\n",
    "\n",
    "from sklearn.linear_model import LogisticRegression\n",
    "from sklearn.tree import DecisionTreeClassifier\n",
    "from sklearn.neighbors import KNeighborsClassifier\n",
    "from sklearn.discriminant_analysis import LinearDiscriminantAnalysis\n",
    "from sklearn.ensemble import RandomForestClassifier\n",
    "from sklearn.naive_bayes import GaussianNB\n",
    "from sklearn.svm import SVC\n"
   ]
  },
  {
   "cell_type": "markdown",
   "metadata": {},
   "source": [
    "## Import Data\n",
    "Predictors2.txt contains calculated PowerShell metadata and a label that indicates whether the sample is malicious or benign.  There are 7 columns of data in a CSV format that indicate the uppercase/lowercase ratio, special character to total character ratio, alpha character to total character ratio, cosine similarity score, count of suspicious modules, count of malicious modules, and label.  The cosine similarity was implemented in python but the idea came from Lee Holmes at http://www.leeholmes.com/blog/2016/10/22/more-detecting-obfuscated-powershell/.  The specific module considered suspicious/malicious were derived using analyst judgement after reviewing a large quantity of events.  These two predictors are hand engineered and were ultimately removed for a better methodology of generating vocabulary frequency counts.  As predictors they worked very well but required ongoing maintenance which is not what we want when implementing an ML use case.  The last column is the label with 0 representing a benign record and 1 representing a suspicious record."
   ]
  },
  {
   "cell_type": "code",
   "execution_count": 2,
   "metadata": {
    "slideshow": {
     "slide_type": "-"
    }
   },
   "outputs": [],
   "source": [
    "my_data = np.genfromtxt('predictors2.txt', delimiter=',', usecols= (0,1,2,3,4,5,6))"
   ]
  },
  {
   "cell_type": "markdown",
   "metadata": {},
   "source": [
    "## Generate Train/Test/Validation data\n",
    "Traning/testing and validation data are required before we start experimenting with various models.  We need to split the data into a train and validation set of predictors and a train and validation set of labels.  The training set will be used for testing various models to determine which model is the most accurate.  The validation set will be used to test the data on previously unseen data in order to determine whether the training model is overfitting the data or whether the training set does not closely represent the entire population of events.  The output shows an example of the predictors and label."
   ]
  },
  {
   "cell_type": "code",
   "execution_count": 13,
   "metadata": {
    "slideshow": {
     "slide_type": "slide"
    }
   },
   "outputs": [
    {
     "name": "stdout",
     "output_type": "stream",
     "text": [
      "[ 1.77272727  0.17355372  0.25206612  0.36063873  0.          0.        ]\n",
      "1.0\n"
     ]
    }
   ],
   "source": [
    "# predictors\n",
    "X = my_data[:, 0:6]\n",
    "print(X[1,:])\n",
    "\n",
    "#Label\n",
    "y = my_data[:,6]\n",
    "print(y[1])\n",
    "\n",
    "#generate train and validation data sets\n",
    "validation_size = 0.20\n",
    "seed = 7\n",
    "X_train, X_validation, Y_train, Y_validation = model_selection.train_test_split(X, y, test_size=validation_size, \\\n",
    "                                                                                random_state=seed)"
   ]
  },
  {
   "cell_type": "markdown",
   "metadata": {},
   "source": [
    "## Model Definitions\n",
    "Each model and model label are added to a list which will be used for accuracy evaluation.  "
   ]
  },
  {
   "cell_type": "code",
   "execution_count": 14,
   "metadata": {},
   "outputs": [],
   "source": [
    "# Build Models\n",
    "models = []\n",
    "models.append(('RF', RandomForestClassifier()))\n",
    "models.append(('LR', LogisticRegression()))\n",
    "models.append(('LDA', LinearDiscriminantAnalysis()))\n",
    "models.append(('KNN', KNeighborsClassifier()))\n",
    "models.append(('CART', DecisionTreeClassifier()))\n",
    "models.append(('NB', GaussianNB()))\n",
    "models.append(('SVM', SVC()))\n",
    "\n",
    "# evaluate each model in turn\n",
    "results = []\n",
    "names = []"
   ]
  },
  {
   "cell_type": "markdown",
   "metadata": {},
   "source": [
    "## Model Evaluation\n",
    "Each model is evaluated for accuracy using 10 fold validation.  The output shows the average score and standard deviation of the scores.  RF and KNN algorithm are very similar in accuracy most often the most accurate with the test data."
   ]
  },
  {
   "cell_type": "code",
   "execution_count": 29,
   "metadata": {},
   "outputs": [
    {
     "name": "stdout",
     "output_type": "stream",
     "text": [
      "RF: 0.997077 (0.001756)\n",
      "LR: 0.987858 (0.004741)\n",
      "LDA: 0.975266 (0.006053)\n",
      "KNN: 0.997302 (0.002621)\n",
      "CART: 0.995055 (0.003304)\n",
      "NB: 0.973472 (0.005103)\n",
      "SVM: 0.987634 (0.005438)\n"
     ]
    }
   ],
   "source": [
    "scoring = 'accuracy'\n",
    "\n",
    "for name, model in models:\n",
    "    kfold = model_selection.KFold(n_splits=10, random_state=seed)\n",
    "    cv_results = model_selection.cross_val_score(model, X_train, Y_train, cv=kfold, scoring=scoring)\n",
    "    results.append(cv_results)\n",
    "    names.append(name)\n",
    "    msg = \"%s: %f (%f)\" % (name, cv_results.mean(), cv_results.std())\n",
    "    print(msg)"
   ]
  },
  {
   "cell_type": "markdown",
   "metadata": {},
   "source": [
    "## Visualize Results\n",
    "Below is a box plot that shows the accuracy results of the various algorithms.  The scale is limited to an accuracy of 96% and above so all of the algorithms were fairly accurate.  "
   ]
  },
  {
   "cell_type": "code",
   "execution_count": 16,
   "metadata": {},
   "outputs": [
    {
     "data": {
      "image/png": "[encoded data removed]",
      "text/plain": [
       "<matplotlib.figure.Figure at 0x7f9a28418160>"
      ]
     },
     "metadata": {},
     "output_type": "display_data"
    }
   ],
   "source": [
    "# Compare Algorithms\n",
    "fig = plt.figure()\n",
    "fig.suptitle('Algorithm Comparison')\n",
    "ax = fig.add_subplot(111)\n",
    "plt.boxplot(results)\n",
    "ax.set_xticklabels(names)\n",
    "plt.show()"
   ]
  },
  {
   "cell_type": "markdown",
   "metadata": {},
   "source": [
    "## Evaluate Validation Set\n",
    "The algorithm needs to be tested on a set of data that it wasn't trained on to get a more realistic accuracy number.  Earlier 20% of the data was set aside for validation and the accuracy is shown below.  \n",
    "\n",
    "### Confusion Matrix\n",
    "The confusion matrix is a common way to present machine learning classification data.  In binary classification this will look like a 2x2 matrix.  The first row shows the count of truely benign events and the second row shows count of truely suspicous events.  The first column represents the quantity of benign predictions and the second column shows the predicted suspicious events.  Moving clockwise from the upper left we have true positive, false positive, true negative, false negative.\n",
    "\n",
    "### Accuracy\n",
    "Accuracy is one evaluation criteria that shows what percentage of true positves and true negatives were predicted correctly.  (True Positive + True Negative)/Total Events=Accuracy.  This appears to be very good but our data is very skewed towards events that are not suspicious so a high accuracy could still be very bad.  If we guessed everything was benign we would still have an accuracy of almost 93%.\n",
    "\n",
    "### Precision\n",
    "Precision shows what percentage of positive (suspicious events) predictions were truely suspicious out of all the positive predictions.  This can help us determine how much trust to put in positive predictions but it doesn't tell us how many times it misses a positive prediction (false negative).  This metric answers the question: What percentage of suspicoius classifications are truely suspicious.\n",
    "\n",
    "\n",
    "True Positive/(True Positive + False Positive) = Precision\n",
    "\n",
    "### Recall\n",
    "Recall helps determine how much we can trust the algorithm to catch all suspicious events.  This metric answers the questions: What percentage of truely suspicious events were classified as suspicious.\n",
    "\n",
    "True Positive/(True Positive + False Negative) = Recall"
   ]
  },
  {
   "cell_type": "code",
   "execution_count": 30,
   "metadata": {},
   "outputs": [
    {
     "name": "stdout",
     "output_type": "stream",
     "text": [
      "[[1056    1]\n",
      " [   2   54]]\n",
      "0.99730458221\n",
      "             precision    recall  f1-score   support\n",
      "\n",
      "        0.0       1.00      1.00      1.00      1057\n",
      "        1.0       0.98      0.96      0.97        56\n",
      "\n",
      "avg / total       1.00      1.00      1.00      1113\n",
      "\n"
     ]
    }
   ],
   "source": [
    "# Make Predictions\n",
    "# Make predictions on validation dataset\n",
    "rf = RandomForestClassifier()\n",
    "rf.fit(X_train, Y_train)\n",
    "predictions = rf.predict(X_validation)\n",
    "print(confusion_matrix(Y_validation, predictions))\n",
    "print(accuracy_score(Y_validation, predictions))\n",
    "print(classification_report(Y_validation, predictions))"
   ]
  },
  {
   "cell_type": "markdown",
   "metadata": {},
   "source": [
    "## Make Predictions\n",
    "Making predictions is easy.  Just pass the event metadata to rf.predict and the model will output a 0 for benign and 1 for suspicious.  You can see a sample record from the validation set, the predicted output from the algorithm, and the true outcome from the labeled validation set."
   ]
  },
  {
   "cell_type": "code",
   "execution_count": 31,
   "metadata": {},
   "outputs": [
    {
     "name": "stdout",
     "output_type": "stream",
     "text": [
      "[ 0.22764228  0.140625    0.58984375  0.7865722   0.          0.        ]\n",
      "[ 0.]\n",
      "0.0\n"
     ]
    }
   ],
   "source": [
    "print(X_validation[1])\n",
    "print(rf.predict(X_validation[1].reshape(1,-1)))\n",
    "print(Y_validation[1])"
   ]
  },
  {
   "cell_type": "markdown",
   "metadata": {},
   "source": [
    "## Vectorization\n",
    "The values that were used to determine the Suspicious/Malicious module count had to be update to get good results on the validation set and increse the recall score.  This is not optimal since it will need to be updated manually over time.  A better solution is to vectorize the PowerShell events and generate a vocabulary that can be used as a large quantity of predictors.  The machine learning algorithm can take this data, learn, and weight terms to determine which terms typically represent suspicious events and which represent malicious events."
   ]
  },
  {
   "cell_type": "code",
   "execution_count": 10,
   "metadata": {},
   "outputs": [
    {
     "name": "stdout",
     "output_type": "stream",
     "text": [
      "{'the': 4, 'quick': 3, 'brown': 0, 'fox': 1, 'john': 2}\n",
      "[[0 0 0 0 1]\n",
      " [0 0 0 1 1]\n",
      " [1 0 0 1 1]\n",
      " [1 1 0 1 1]\n",
      " [0 0 1 0 0]\n",
      " [0 0 0 0 2]]\n"
     ]
    }
   ],
   "source": [
    "from sklearn.feature_extraction.text import CountVectorizer\n",
    "sample = ['the', 'the quick', 'the quick brown', 'the quick brown fox', 'john', 'the the']\n",
    "vec = CountVectorizer()\n",
    "data = vec.fit_transform(sample).toarray()\n",
    "print(vec.vocabulary_)\n",
    "print(data)\n"
   ]
  }
 ],
 "metadata": {
  "kernelspec": {
   "display_name": "Python 3",
   "language": "python",
   "name": "python3"
  },
  "language_info": {
   "codemirror_mode": {
    "name": "ipython",
    "version": 3
   },
   "file_extension": ".py",
   "mimetype": "text/x-python",
   "name": "python",
   "nbconvert_exporter": "python",
   "pygments_lexer": "ipython3",
   "version": "3.6.4"
  }
 },
 "nbformat": 4,
 "nbformat_minor": 2
}
